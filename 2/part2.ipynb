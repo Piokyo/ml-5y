{
 "cells": [
  {
   "cell_type": "code",
   "execution_count": 235,
   "metadata": {},
   "outputs": [],
   "source": [
    "# optional:\n",
    "# %load_ext rich"
   ]
  },
  {
   "cell_type": "code",
   "execution_count": 236,
   "metadata": {},
   "outputs": [],
   "source": [
    "import numpy as np\n",
    "import pandas as pd\n",
    "import seaborn as sns\n",
    "import matplotlib.pyplot as plt"
   ]
  },
  {
   "cell_type": "markdown",
   "metadata": {},
   "source": [
    "S = ?</br>\n",
    "Y = {1, 2, 3, 4, 5}</br>\n",
    "</br>\n",
    "- Y = 1 if S < 100\n",
    "- Y = 2 if 100 <= S < 1000\n",
    "- Y = 3 if 1000 <= S < 10000\n",
    "- Y = 4 if 10000 <= S < 100000\n",
    "- Y = 5 if 100000 <= S\n",
    "</br>\n",
    "X E R</br>"
   ]
  },
  {
   "cell_type": "code",
   "execution_count": 237,
   "metadata": {},
   "outputs": [
    {
     "data": {
      "text/html": [
       "<div>\n",
       "<style scoped>\n",
       "    .dataframe tbody tr th:only-of-type {\n",
       "        vertical-align: middle;\n",
       "    }\n",
       "\n",
       "    .dataframe tbody tr th {\n",
       "        vertical-align: top;\n",
       "    }\n",
       "\n",
       "    .dataframe thead th {\n",
       "        text-align: right;\n",
       "    }\n",
       "</style>\n",
       "<table border=\"1\" class=\"dataframe\">\n",
       "  <thead>\n",
       "    <tr style=\"text-align: right;\">\n",
       "      <th></th>\n",
       "      <th>1</th>\n",
       "      <th>2</th>\n",
       "      <th>3</th>\n",
       "      <th>4</th>\n",
       "      <th>5</th>\n",
       "      <th>total</th>\n",
       "    </tr>\n",
       "  </thead>\n",
       "  <tbody>\n",
       "    <tr>\n",
       "      <th>0</th>\n",
       "      <td>0</td>\n",
       "      <td>0</td>\n",
       "      <td>2</td>\n",
       "      <td>9</td>\n",
       "      <td>89</td>\n",
       "      <td>100</td>\n",
       "    </tr>\n",
       "  </tbody>\n",
       "</table>\n",
       "</div>"
      ],
      "text/plain": [
       "   1  2  3  4   5  total\n",
       "0  0  0  2  9  89    100"
      ]
     },
     "execution_count": 237,
     "metadata": {},
     "output_type": "execute_result"
    }
   ],
   "source": [
    "df_base = pd.DataFrame(np.random.randint(0,1000000,size=(100000)))\n",
    "df_pretty = pd.DataFrame()\n",
    "df_pretty['1'] = df_base[df_base < 100].count()\n",
    "df_pretty['2'] = df_base[(100 <= df_base) & (df_base < 1000)].count()\n",
    "df_pretty['3'] = df_base[(1000 <= df_base) & (df_base < 10000)].count()\n",
    "df_pretty['4'] = df_base[(10000 <= df_base) & (df_base < 100000)].count()\n",
    "df_pretty['5'] = df_base[100000 <= df_base].count()\n",
    "df_pretty[\"total\"] = df_pretty.sum(axis=1)\n",
    "df_pretty\n"
   ]
  },
  {
   "cell_type": "markdown",
   "metadata": {},
   "source": [
    "the loss function: </br>\n",
    "square loss = l(y, z) = (y − z)²</br>\n",
    "absolute loss: l(y, z) = |y − z|</br>"
   ]
  },
  {
   "cell_type": "markdown",
   "metadata": {},
   "source": [
    "Bayes estimator for square loss = </br>\n",
    "f(x) = {1 = P(1|X), 2 = P(2|X), 3 = P(3|X), 4 = P(4|X), 5 =P(5|X)}</br>\n",
    "f(1) = P(1|X) = P(100/1000000) = P(1/10000)</br>\n",
    "f(2) = P(2|X) = P((1000 - 100)/1000000) = P(9/10000)</br>\n",
    "f(3) = P(3|X) = P((10000 - 1000)/1000000) = P(9/1000)</br>\n",
    "f(4) = P(4|X) = P((100000 - 10000)/1000000) = P(9/100)</br>\n",
    "f(5) = P(5|X) = P((1000000 - 100000)/1000000) = P(9/10)</br>"
   ]
  },
  {
   "cell_type": "code",
   "execution_count": 238,
   "metadata": {},
   "outputs": [
    {
     "data": {
      "text/html": [
       "<div>\n",
       "<style scoped>\n",
       "    .dataframe tbody tr th:only-of-type {\n",
       "        vertical-align: middle;\n",
       "    }\n",
       "\n",
       "    .dataframe tbody tr th {\n",
       "        vertical-align: top;\n",
       "    }\n",
       "\n",
       "    .dataframe thead th {\n",
       "        text-align: right;\n",
       "    }\n",
       "</style>\n",
       "<table border=\"1\" class=\"dataframe\">\n",
       "  <thead>\n",
       "    <tr style=\"text-align: right;\">\n",
       "      <th></th>\n",
       "      <th>1</th>\n",
       "      <th>2</th>\n",
       "      <th>3</th>\n",
       "      <th>4</th>\n",
       "      <th>5</th>\n",
       "      <th>total</th>\n",
       "      <th>P(1)</th>\n",
       "      <th>P(2)</th>\n",
       "      <th>P(3)</th>\n",
       "      <th>P(4)</th>\n",
       "      <th>P(5)</th>\n",
       "    </tr>\n",
       "  </thead>\n",
       "  <tbody>\n",
       "    <tr>\n",
       "      <th>0</th>\n",
       "      <td>0</td>\n",
       "      <td>0</td>\n",
       "      <td>2</td>\n",
       "      <td>9</td>\n",
       "      <td>89</td>\n",
       "      <td>100</td>\n",
       "      <td>0.0</td>\n",
       "      <td>0.0</td>\n",
       "      <td>0.02</td>\n",
       "      <td>0.09</td>\n",
       "      <td>0.89</td>\n",
       "    </tr>\n",
       "  </tbody>\n",
       "</table>\n",
       "</div>"
      ],
      "text/plain": [
       "   1  2  3  4   5  total  P(1)  P(2)  P(3)  P(4)  P(5)\n",
       "0  0  0  2  9  89    100   0.0   0.0  0.02  0.09  0.89"
      ]
     },
     "execution_count": 238,
     "metadata": {},
     "output_type": "execute_result"
    }
   ],
   "source": [
    "df_pretty['P(1)'] = df_pretty['1'] / df_pretty[\"total\"]\n",
    "df_pretty['P(2)'] = df_pretty['2'] / df_pretty[\"total\"]\n",
    "df_pretty['P(3)'] = df_pretty['3'] / df_pretty[\"total\"]\n",
    "df_pretty['P(4)'] = df_pretty['4'] / df_pretty[\"total\"]\n",
    "df_pretty['P(5)'] = df_pretty['5'] / df_pretty[\"total\"]\n",
    "df_pretty"
   ]
  }
 ],
 "metadata": {
  "kernelspec": {
   "display_name": "Python 3.8.10 64-bit",
   "language": "python",
   "name": "python3"
  },
  "language_info": {
   "codemirror_mode": {
    "name": "ipython",
    "version": 3
   },
   "file_extension": ".py",
   "mimetype": "text/x-python",
   "name": "python",
   "nbconvert_exporter": "python",
   "pygments_lexer": "ipython3",
   "version": "3.8.10"
  },
  "orig_nbformat": 4,
  "vscode": {
   "interpreter": {
    "hash": "916dbcbb3f70747c44a77c7bcd40155683ae19c65e1c03b4aa3499c5328201f1"
   }
  }
 },
 "nbformat": 4,
 "nbformat_minor": 2
}
