{
 "cells": [
  {
   "cell_type": "markdown",
   "metadata": {},
   "source": [
    "Part 1: Bayes estimator and Bayes risk"
   ]
  },
  {
   "cell_type": "code",
   "execution_count": 49,
   "metadata": {},
   "outputs": [],
   "source": [
    "# optional:\n",
    "# %load_ext rich"
   ]
  },
  {
   "cell_type": "code",
   "execution_count": 50,
   "metadata": {},
   "outputs": [],
   "source": [
    "import numpy as np\n",
    "import pandas as pd"
   ]
  },
  {
   "cell_type": "markdown",
   "metadata": {},
   "source": [
    "For input X = number of tree per species in a given nordic forest that contain a number (R) of tree<br/>\n",
    "Nordic forest avec a distribution of 20% birch, 30% spruce and 50% pine.<br/>\n",
    "For output Y =  the probability that a tree is a pine tree -> (Y = {0-1})<br/>\n",
    "For P(Y|X) the probability that in the forest X we pick a pine tree (Y)<br/>\n",
    "The loss function = 0-1 given that we are studying a \"true-false problem\"<br/>\n",
    "<br/>\n",
    "we have p(x) = {pine = 5/10, spruce = 3/10, birch = 2/10}\n",
    "f*(x) = argmax(z∈Y)P(Y = z|X = x)<br/>\n",
    "in this case as we have a 0-1 losse function:<br/>\n",
    "f*(x) = {pine = 0, spruce = 1, birch = 1}<br/>\n",
    "<br/>\n",
    "R* = EX[min(η(X), 1− η(X))]<br/>\n",
    "R* = (1/3*5/10)+(1/3*3/10)+(1/3*2/10)\n",
    "R* = 1/3 * (5/10 + 3/10 + 2/10)\n",
    "R* = 1/3 * 1\n",
    "R* = 1/3\n",
    "<br/>\n",
    "\n",
    "let's generate a dataset according to our settings for 100 forest:"
   ]
  },
  {
   "cell_type": "code",
   "execution_count": 51,
   "metadata": {},
   "outputs": [
    {
     "data": {
      "text/html": [
       "<div>\n",
       "<style scoped>\n",
       "    .dataframe tbody tr th:only-of-type {\n",
       "        vertical-align: middle;\n",
       "    }\n",
       "\n",
       "    .dataframe tbody tr th {\n",
       "        vertical-align: top;\n",
       "    }\n",
       "\n",
       "    .dataframe thead th {\n",
       "        text-align: right;\n",
       "    }\n",
       "</style>\n",
       "<table border=\"1\" class=\"dataframe\">\n",
       "  <thead>\n",
       "    <tr style=\"text-align: right;\">\n",
       "      <th>tree</th>\n",
       "      <th>birch</th>\n",
       "      <th>pine</th>\n",
       "      <th>spruce</th>\n",
       "      <th>total number of tree</th>\n",
       "      <th>probability of birch</th>\n",
       "      <th>probability of pine</th>\n",
       "      <th>probability of spruce</th>\n",
       "    </tr>\n",
       "  </thead>\n",
       "  <tbody>\n",
       "    <tr>\n",
       "      <th>index</th>\n",
       "      <td>2044</td>\n",
       "      <td>4957</td>\n",
       "      <td>2999</td>\n",
       "      <td>10000</td>\n",
       "      <td>0.2044</td>\n",
       "      <td>0.4957</td>\n",
       "      <td>0.2999</td>\n",
       "    </tr>\n",
       "  </tbody>\n",
       "</table>\n",
       "</div>"
      ],
      "text/plain": [
       "tree   birch  pine  spruce  total number of tree  probability of birch  \\\n",
       "index   2044  4957    2999                 10000                0.2044   \n",
       "\n",
       "tree   probability of pine  probability of spruce  \n",
       "index               0.4957                 0.2999  "
      ]
     },
     "execution_count": 51,
     "metadata": {},
     "output_type": "execute_result"
    }
   ],
   "source": [
    "\n",
    "df_base = pd.DataFrame(np.random.choice(['spruce', 'pine', 'birch'], 10000, p=[3/10, 5/10, 2/10]), columns=['tree'])\n",
    "df_pretty = df_base.reset_index().groupby('tree').count().transpose()\n",
    "\n",
    "df_pretty[\"total number of tree\"] = df_pretty.sum(axis=1)\n",
    "df_pretty[\"probability of birch\"] = df_pretty[\"birch\"] / df_pretty[\"total number of tree\"]\n",
    "df_pretty[\"probability of pine\"] = df_pretty[\"pine\"] / df_pretty[\"total number of tree\"]\n",
    "df_pretty[\"probability of spruce\"] = df_pretty[\"spruce\"] / df_pretty[\"total number of tree\"]\n",
    "\n",
    "df_pretty"
   ]
  },
  {
   "cell_type": "markdown",
   "metadata": {},
   "source": [
    "The empirical loss: <br/>\n",
    "Rn(g) = 1/n∑(n, i=1)l(yi ,g(xi))<br/>\n",
    "<br/>\n",
    "So in or case given or 0-1 loss function Rn = [\"spruce + birch\"] / total<br/>\n",
    "<br/>\n",
    "or p(1/Y)\n"
   ]
  },
  {
   "cell_type": "code",
   "execution_count": 54,
   "metadata": {},
   "outputs": [
    {
     "data": {
      "text/html": [
       "<div>\n",
       "<style scoped>\n",
       "    .dataframe tbody tr th:only-of-type {\n",
       "        vertical-align: middle;\n",
       "    }\n",
       "\n",
       "    .dataframe tbody tr th {\n",
       "        vertical-align: top;\n",
       "    }\n",
       "\n",
       "    .dataframe thead th {\n",
       "        text-align: right;\n",
       "    }\n",
       "</style>\n",
       "<table border=\"1\" class=\"dataframe\">\n",
       "  <thead>\n",
       "    <tr style=\"text-align: right;\">\n",
       "      <th>tree</th>\n",
       "      <th>birch</th>\n",
       "      <th>pine</th>\n",
       "      <th>spruce</th>\n",
       "      <th>total number of tree</th>\n",
       "      <th>probability of birch</th>\n",
       "      <th>probability of pine</th>\n",
       "      <th>probability of spruce</th>\n",
       "      <th>loss</th>\n",
       "    </tr>\n",
       "  </thead>\n",
       "  <tbody>\n",
       "    <tr>\n",
       "      <th>index</th>\n",
       "      <td>2044</td>\n",
       "      <td>4957</td>\n",
       "      <td>2999</td>\n",
       "      <td>10000</td>\n",
       "      <td>0.2044</td>\n",
       "      <td>0.4957</td>\n",
       "      <td>0.2999</td>\n",
       "      <td>0.5043</td>\n",
       "    </tr>\n",
       "  </tbody>\n",
       "</table>\n",
       "</div>"
      ],
      "text/plain": [
       "tree   birch  pine  spruce  total number of tree  probability of birch  \\\n",
       "index   2044  4957    2999                 10000                0.2044   \n",
       "\n",
       "tree   probability of pine  probability of spruce    loss  \n",
       "index               0.4957                 0.2999  0.5043  "
      ]
     },
     "execution_count": 54,
     "metadata": {},
     "output_type": "execute_result"
    }
   ],
   "source": [
    "df_pretty[\"loss\"] = (df_pretty[\"spruce\"] + df_pretty[\"birch\"]) / df_pretty[\"total number of tree\"]\n",
    "df_pretty"
   ]
  }
 ],
 "metadata": {
  "kernelspec": {
   "display_name": "Python 3.10.6 ('python-env')",
   "language": "python",
   "name": "python3"
  },
  "language_info": {
   "codemirror_mode": {
    "name": "ipython",
    "version": 3
   },
   "file_extension": ".py",
   "mimetype": "text/x-python",
   "name": "python",
   "nbconvert_exporter": "python",
   "pygments_lexer": "ipython3",
   "version": "3.10.6"
  },
  "orig_nbformat": 4,
  "vscode": {
   "interpreter": {
    "hash": "ca01680b82f70831b69ea0553f54d8f49f96221c216830153d852a87e10c055d"
   }
  }
 },
 "nbformat": 4,
 "nbformat_minor": 2
}
